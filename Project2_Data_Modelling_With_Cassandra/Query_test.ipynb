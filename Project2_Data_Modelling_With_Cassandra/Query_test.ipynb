{
 "cells": [
  {
   "cell_type": "markdown",
   "metadata": {},
   "source": [
    "# Test the database"
   ]
  },
  {
   "cell_type": "code",
   "execution_count": 6,
   "metadata": {},
   "outputs": [],
   "source": [
    "import pandas as pd\n",
    "from cassandra.cluster import Cluster"
   ]
  },
  {
   "cell_type": "code",
   "execution_count": 7,
   "metadata": {},
   "outputs": [],
   "source": [
    "cluster = Cluster()\n",
    "session = cluster.connect()\n",
    "session.set_keyspace(\"sparkifydb\")"
   ]
  },
  {
   "cell_type": "markdown",
   "metadata": {},
   "source": [
    "### 1. Give me the artist, song title and song's length in the music app history that was heard during  sessionId = 338, and itemInSession  = 4"
   ]
  },
  {
   "cell_type": "code",
   "execution_count": 8,
   "metadata": {},
   "outputs": [
    {
     "name": "stdout",
     "output_type": "stream",
     "text": [
      "('Faithless', 'Music Matters (Mark Knight Dub)', 495.30731201171875)\n"
     ]
    }
   ],
   "source": [
    "query = \"SELECT artist, song_title, song_length FROM session_table WHERE session_id = 338 and item_in_session = 4\"\n",
    "\n",
    "try:\n",
    "    rows = session.execute(query)\n",
    "except Exception as e:\n",
    "    print(e)\n",
    "\n",
    "for row in rows:\n",
    "    print((row.artist, row.song_title, row.song_length))"
   ]
  },
  {
   "cell_type": "markdown",
   "metadata": {},
   "source": [
    "### 2. Give me only the following: name of artist, song (sorted by itemInSession) and user (first and last name) for userid = 10, sessionid = 182"
   ]
  },
  {
   "cell_type": "code",
   "execution_count": 9,
   "metadata": {},
   "outputs": [
    {
     "name": "stdout",
     "output_type": "stream",
     "text": [
      "('Down To The Bone', \"Keep On Keepin' On\", 'Sylvie', 'Cruz')\n",
      "('Three Drives', 'Greece 2000', 'Sylvie', 'Cruz')\n",
      "('Sebastien Tellier', 'Kilometer', 'Sylvie', 'Cruz')\n",
      "('Lonnie Gordon', 'Catch You Baby (Steve Pitron & Max Sanna Radio Edit)', 'Sylvie', 'Cruz')\n"
     ]
    }
   ],
   "source": [
    "query = \"SELECT artist_name, song_title, user_first_name, user_last_name FROM session_playlist_table WHERE user_id = 10 AND session_id = 182\"\n",
    "\n",
    "try:\n",
    "    rows = session.execute(query)\n",
    "except Exception as e:\n",
    "    pritn(e)\n",
    "    \n",
    "for row in rows:\n",
    "    print((row.artist_name, row.song_title, row.user_first_name, row.user_last_name))"
   ]
  },
  {
   "cell_type": "markdown",
   "metadata": {},
   "source": [
    "### 3. Give me every user name (first and last) in my music app history who listened to the song 'All Hands Against His Own'"
   ]
  },
  {
   "cell_type": "code",
   "execution_count": 10,
   "metadata": {},
   "outputs": [
    {
     "name": "stdout",
     "output_type": "stream",
     "text": [
      "('Jacqueline', 'Lynch')\n",
      "('Tegan', 'Levine')\n",
      "('Sara', 'Johnson')\n"
     ]
    }
   ],
   "source": [
    "query = \"SELECT user_first_name, user_last_name FROM song_table WHERE song_title = 'All Hands Against His Own'\"\n",
    "\n",
    "try:\n",
    "    rows = session.execute(query)\n",
    "    error = True\n",
    "except Exception as e:\n",
    "    print(e)\n",
    "    error = False\n",
    "\n",
    "if error:\n",
    "    for row in rows:\n",
    "        print((row.user_first_name, row.user_last_name))"
   ]
  },
  {
   "cell_type": "code",
   "execution_count": 6,
   "metadata": {},
   "outputs": [],
   "source": [
    "session.shutdown()\n",
    "cluster.shutdown()"
   ]
  }
 ],
 "metadata": {
  "kernelspec": {
   "display_name": "Python 3",
   "language": "python",
   "name": "python3"
  },
  "language_info": {
   "codemirror_mode": {
    "name": "ipython",
    "version": 3
   },
   "file_extension": ".py",
   "mimetype": "text/x-python",
   "name": "python",
   "nbconvert_exporter": "python",
   "pygments_lexer": "ipython3",
   "version": "3.6.3"
  }
 },
 "nbformat": 4,
 "nbformat_minor": 2
}
